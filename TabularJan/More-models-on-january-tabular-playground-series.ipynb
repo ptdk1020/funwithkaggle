{
 "cells": [
  {
   "cell_type": "markdown",
   "id": "fossil-resolution",
   "metadata": {},
   "source": [
    "In another post, we have taken a look at data from [Tabular Playground Series - January](https://www.kaggle.com/c/tabular-playground-series-jan-2021), and ran some simple linear regressions on it. In this post, I want to explore other approaches. "
   ]
  },
  {
   "cell_type": "code",
   "execution_count": 1,
   "id": "listed-opera",
   "metadata": {},
   "outputs": [],
   "source": [
    "import numpy as np\n",
    "import pandas as pd\n",
    "from matplotlib import pyplot as plt\n",
    "%matplotlib inline\n",
    "\n",
    "from sklearn.model_selection import GridSearchCV, cross_val_score, \\\n",
    "                                    train_test_split\n",
    "from sklearn.metrics import mean_squared_error as mse"
   ]
  },
  {
   "cell_type": "code",
   "execution_count": 2,
   "id": "utility-immigration",
   "metadata": {},
   "outputs": [
    {
     "data": {
      "text/html": [
       "<div>\n",
       "<style scoped>\n",
       "    .dataframe tbody tr th:only-of-type {\n",
       "        vertical-align: middle;\n",
       "    }\n",
       "\n",
       "    .dataframe tbody tr th {\n",
       "        vertical-align: top;\n",
       "    }\n",
       "\n",
       "    .dataframe thead th {\n",
       "        text-align: right;\n",
       "    }\n",
       "</style>\n",
       "<table border=\"1\" class=\"dataframe\">\n",
       "  <thead>\n",
       "    <tr style=\"text-align: right;\">\n",
       "      <th></th>\n",
       "      <th>cont1</th>\n",
       "      <th>cont2</th>\n",
       "      <th>cont3</th>\n",
       "      <th>cont4</th>\n",
       "      <th>cont5</th>\n",
       "      <th>cont6</th>\n",
       "      <th>cont7</th>\n",
       "      <th>cont8</th>\n",
       "      <th>cont9</th>\n",
       "      <th>cont10</th>\n",
       "      <th>cont11</th>\n",
       "      <th>cont12</th>\n",
       "      <th>cont13</th>\n",
       "      <th>cont14</th>\n",
       "    </tr>\n",
       "    <tr>\n",
       "      <th>id</th>\n",
       "      <th></th>\n",
       "      <th></th>\n",
       "      <th></th>\n",
       "      <th></th>\n",
       "      <th></th>\n",
       "      <th></th>\n",
       "      <th></th>\n",
       "      <th></th>\n",
       "      <th></th>\n",
       "      <th></th>\n",
       "      <th></th>\n",
       "      <th></th>\n",
       "      <th></th>\n",
       "      <th></th>\n",
       "    </tr>\n",
       "  </thead>\n",
       "  <tbody>\n",
       "    <tr>\n",
       "      <th>1</th>\n",
       "      <td>0.670390</td>\n",
       "      <td>0.811300</td>\n",
       "      <td>0.643968</td>\n",
       "      <td>0.291791</td>\n",
       "      <td>0.284117</td>\n",
       "      <td>0.855953</td>\n",
       "      <td>0.890700</td>\n",
       "      <td>0.285542</td>\n",
       "      <td>0.558245</td>\n",
       "      <td>0.779418</td>\n",
       "      <td>0.921832</td>\n",
       "      <td>0.866772</td>\n",
       "      <td>0.878733</td>\n",
       "      <td>0.305411</td>\n",
       "    </tr>\n",
       "    <tr>\n",
       "      <th>3</th>\n",
       "      <td>0.388053</td>\n",
       "      <td>0.621104</td>\n",
       "      <td>0.686102</td>\n",
       "      <td>0.501149</td>\n",
       "      <td>0.643790</td>\n",
       "      <td>0.449805</td>\n",
       "      <td>0.510824</td>\n",
       "      <td>0.580748</td>\n",
       "      <td>0.418335</td>\n",
       "      <td>0.432632</td>\n",
       "      <td>0.439872</td>\n",
       "      <td>0.434971</td>\n",
       "      <td>0.369957</td>\n",
       "      <td>0.369484</td>\n",
       "    </tr>\n",
       "    <tr>\n",
       "      <th>4</th>\n",
       "      <td>0.834950</td>\n",
       "      <td>0.227436</td>\n",
       "      <td>0.301584</td>\n",
       "      <td>0.293408</td>\n",
       "      <td>0.606839</td>\n",
       "      <td>0.829175</td>\n",
       "      <td>0.506143</td>\n",
       "      <td>0.558771</td>\n",
       "      <td>0.587603</td>\n",
       "      <td>0.823312</td>\n",
       "      <td>0.567007</td>\n",
       "      <td>0.677708</td>\n",
       "      <td>0.882938</td>\n",
       "      <td>0.303047</td>\n",
       "    </tr>\n",
       "    <tr>\n",
       "      <th>5</th>\n",
       "      <td>0.820708</td>\n",
       "      <td>0.160155</td>\n",
       "      <td>0.546887</td>\n",
       "      <td>0.726104</td>\n",
       "      <td>0.282444</td>\n",
       "      <td>0.785108</td>\n",
       "      <td>0.752758</td>\n",
       "      <td>0.823267</td>\n",
       "      <td>0.574466</td>\n",
       "      <td>0.580843</td>\n",
       "      <td>0.769594</td>\n",
       "      <td>0.818143</td>\n",
       "      <td>0.914281</td>\n",
       "      <td>0.279528</td>\n",
       "    </tr>\n",
       "    <tr>\n",
       "      <th>8</th>\n",
       "      <td>0.935278</td>\n",
       "      <td>0.421235</td>\n",
       "      <td>0.303801</td>\n",
       "      <td>0.880214</td>\n",
       "      <td>0.665610</td>\n",
       "      <td>0.830131</td>\n",
       "      <td>0.487113</td>\n",
       "      <td>0.604157</td>\n",
       "      <td>0.874658</td>\n",
       "      <td>0.863427</td>\n",
       "      <td>0.983575</td>\n",
       "      <td>0.900464</td>\n",
       "      <td>0.935918</td>\n",
       "      <td>0.435772</td>\n",
       "    </tr>\n",
       "  </tbody>\n",
       "</table>\n",
       "</div>"
      ],
      "text/plain": [
       "       cont1     cont2     cont3     cont4     cont5     cont6     cont7  \\\n",
       "id                                                                         \n",
       "1   0.670390  0.811300  0.643968  0.291791  0.284117  0.855953  0.890700   \n",
       "3   0.388053  0.621104  0.686102  0.501149  0.643790  0.449805  0.510824   \n",
       "4   0.834950  0.227436  0.301584  0.293408  0.606839  0.829175  0.506143   \n",
       "5   0.820708  0.160155  0.546887  0.726104  0.282444  0.785108  0.752758   \n",
       "8   0.935278  0.421235  0.303801  0.880214  0.665610  0.830131  0.487113   \n",
       "\n",
       "       cont8     cont9    cont10    cont11    cont12    cont13    cont14  \n",
       "id                                                                        \n",
       "1   0.285542  0.558245  0.779418  0.921832  0.866772  0.878733  0.305411  \n",
       "3   0.580748  0.418335  0.432632  0.439872  0.434971  0.369957  0.369484  \n",
       "4   0.558771  0.587603  0.823312  0.567007  0.677708  0.882938  0.303047  \n",
       "5   0.823267  0.574466  0.580843  0.769594  0.818143  0.914281  0.279528  \n",
       "8   0.604157  0.874658  0.863427  0.983575  0.900464  0.935918  0.435772  "
      ]
     },
     "execution_count": 2,
     "metadata": {},
     "output_type": "execute_result"
    }
   ],
   "source": [
    "# loading data\n",
    "df = pd.read_csv('data/train.csv',index_col=0)\n",
    "y = pd.DataFrame(df['target'])\n",
    "train = df.drop(['target'],axis=1)\n",
    "\n",
    "test = pd.read_csv('data/test.csv',index_col=0)\n",
    "\n",
    "train.head()"
   ]
  },
  {
   "cell_type": "markdown",
   "id": "gentle-latter",
   "metadata": {},
   "source": [
    "### Decision Tree\n",
    "First, we look at a popular method, decision tree. Recall that decision trees are built to optimize some quality criterion at each split, e.g., Gini impurity or misclassification error for classification problems, mean-squared-error or variance for regression problems. "
   ]
  },
  {
   "cell_type": "code",
   "execution_count": 6,
   "id": "simple-incentive",
   "metadata": {},
   "outputs": [
    {
     "data": {
      "text/plain": [
       "GridSearchCV(cv=5, estimator=DecisionTreeRegressor(random_state=42), n_jobs=-1,\n",
       "             param_grid={'max_depth': range(1, 11),\n",
       "                         'max_features': range(4, 15)})"
      ]
     },
     "execution_count": 6,
     "metadata": {},
     "output_type": "execute_result"
    }
   ],
   "source": [
    "from sklearn.tree import DecisionTreeRegressor\n",
    "\n",
    "# hyperparameter tuning, with cross-validation using GridSearchCV\n",
    "tree = DecisionTreeRegressor(random_state=42,criterion='mse')\n",
    "\n",
    "tree_params = {'max_depth':range(1,11),\n",
    "               'max_features':range(4,15)\n",
    "              }\n",
    "tree_grid = GridSearchCV(tree,tree_params, cv=5,n_jobs=-1)\n",
    "\n",
    "tree_grid.fit(train,y)"
   ]
  },
  {
   "cell_type": "code",
   "execution_count": 7,
   "id": "urban-norman",
   "metadata": {},
   "outputs": [
    {
     "data": {
      "text/plain": [
       "{'max_depth': 8, 'max_features': 6}"
      ]
     },
     "execution_count": 7,
     "metadata": {},
     "output_type": "execute_result"
    }
   ],
   "source": [
    "# best parameters\n",
    "tree_grid.best_params_"
   ]
  },
  {
   "cell_type": "code",
   "execution_count": 8,
   "id": "retained-forum",
   "metadata": {},
   "outputs": [
    {
     "data": {
      "text/html": [
       "<div>\n",
       "<style scoped>\n",
       "    .dataframe tbody tr th:only-of-type {\n",
       "        vertical-align: middle;\n",
       "    }\n",
       "\n",
       "    .dataframe tbody tr th {\n",
       "        vertical-align: top;\n",
       "    }\n",
       "\n",
       "    .dataframe thead th {\n",
       "        text-align: right;\n",
       "    }\n",
       "</style>\n",
       "<table border=\"1\" class=\"dataframe\">\n",
       "  <thead>\n",
       "    <tr style=\"text-align: right;\">\n",
       "      <th></th>\n",
       "      <th>target</th>\n",
       "    </tr>\n",
       "    <tr>\n",
       "      <th>id</th>\n",
       "      <th></th>\n",
       "    </tr>\n",
       "  </thead>\n",
       "  <tbody>\n",
       "    <tr>\n",
       "      <th>0</th>\n",
       "      <td>8.093925</td>\n",
       "    </tr>\n",
       "    <tr>\n",
       "      <th>2</th>\n",
       "      <td>7.751377</td>\n",
       "    </tr>\n",
       "    <tr>\n",
       "      <th>6</th>\n",
       "      <td>7.794199</td>\n",
       "    </tr>\n",
       "    <tr>\n",
       "      <th>7</th>\n",
       "      <td>8.029836</td>\n",
       "    </tr>\n",
       "    <tr>\n",
       "      <th>10</th>\n",
       "      <td>8.093925</td>\n",
       "    </tr>\n",
       "    <tr>\n",
       "      <th>...</th>\n",
       "      <td>...</td>\n",
       "    </tr>\n",
       "    <tr>\n",
       "      <th>499984</th>\n",
       "      <td>8.181278</td>\n",
       "    </tr>\n",
       "    <tr>\n",
       "      <th>499985</th>\n",
       "      <td>8.029836</td>\n",
       "    </tr>\n",
       "    <tr>\n",
       "      <th>499987</th>\n",
       "      <td>7.986406</td>\n",
       "    </tr>\n",
       "    <tr>\n",
       "      <th>499988</th>\n",
       "      <td>8.054487</td>\n",
       "    </tr>\n",
       "    <tr>\n",
       "      <th>499990</th>\n",
       "      <td>7.805804</td>\n",
       "    </tr>\n",
       "  </tbody>\n",
       "</table>\n",
       "<p>200000 rows × 1 columns</p>\n",
       "</div>"
      ],
      "text/plain": [
       "          target\n",
       "id              \n",
       "0       8.093925\n",
       "2       7.751377\n",
       "6       7.794199\n",
       "7       8.029836\n",
       "10      8.093925\n",
       "...          ...\n",
       "499984  8.181278\n",
       "499985  8.029836\n",
       "499987  7.986406\n",
       "499988  8.054487\n",
       "499990  7.805804\n",
       "\n",
       "[200000 rows x 1 columns]"
      ]
     },
     "execution_count": 8,
     "metadata": {},
     "output_type": "execute_result"
    }
   ],
   "source": [
    "# making prediction with tree using above parameters\n",
    "tree = DecisionTreeRegressor(random_state=42,max_depth=8,max_features=6)\n",
    "tree.fit(train,y)\n",
    "tree_preds = pd.DataFrame(tree.predict(test),index=test.index)\n",
    "tree_preds.columns=['target']\n",
    "tree_preds.to_csv('predictions/decisiontree.csv')\n",
    "tree_preds"
   ]
  },
  {
   "cell_type": "markdown",
   "id": "registered-runner",
   "metadata": {},
   "source": [
    "Submitting this gives a score of 0.72077, which is a decent improvement upon our scores with linear regressions. The next natural step is taking ensemble.\n",
    "\n",
    "### Random Forest\n",
    "\n",
    "Random Forest is a type of ensemble method, which aggregates predictions from a collection of trees. In `DecisionTreeRegressor` class, the number of trees is controlled by the parameter `n_estimators`. Through the parameter `bootstrap`, it is possible to turn our estimator into *bagging* (see [Bootstrap aggregating](https://en.wikipedia.org/wiki/Bootstrap_aggregating)). "
   ]
  },
  {
   "cell_type": "code",
   "execution_count": 3,
   "id": "willing-gasoline",
   "metadata": {},
   "outputs": [],
   "source": [
    "from sklearn.ensemble import RandomForestRegressor"
   ]
  },
  {
   "cell_type": "code",
   "execution_count": null,
   "id": "weird-ceiling",
   "metadata": {},
   "outputs": [],
   "source": [
    "\n",
    "\n",
    "# hyperparameter tuning, with cross-validation using GridSearchCV\n",
    "rf = RandomForestRegressor(n_estimators=100,random_state=42)\n",
    "\n",
    "rf_params = {'max_depth':range(4,11),\n",
    "             'min_samples_split': range(2,6),\n",
    "             'max_features':range(4,11)\n",
    "            }\n",
    "\n",
    "rf_grid = GridSearchCV(rf,rf_params, cv=5,n_jobs=-1)\n",
    "\n",
    "rf_grid.fit(train,y)"
   ]
  },
  {
   "cell_type": "code",
   "execution_count": 7,
   "id": "figured-advertising",
   "metadata": {},
   "outputs": [
    {
     "data": {
      "text/plain": [
       "{'max_depth': 10, 'max_features': 8, 'min_samples_split': 4}"
      ]
     },
     "execution_count": 7,
     "metadata": {},
     "output_type": "execute_result"
    }
   ],
   "source": [
    "# best parameters\n",
    "rf_grid.best_params_"
   ]
  },
  {
   "cell_type": "code",
   "execution_count": 4,
   "id": "proof-background",
   "metadata": {},
   "outputs": [
    {
     "name": "stderr",
     "output_type": "stream",
     "text": [
      "<ipython-input-4-930db716f4c5>:4: DataConversionWarning: A column-vector y was passed when a 1d array was expected. Please change the shape of y to (n_samples,), for example using ravel().\n",
      "  rf.fit(train,y)\n"
     ]
    },
    {
     "data": {
      "text/html": [
       "<div>\n",
       "<style scoped>\n",
       "    .dataframe tbody tr th:only-of-type {\n",
       "        vertical-align: middle;\n",
       "    }\n",
       "\n",
       "    .dataframe tbody tr th {\n",
       "        vertical-align: top;\n",
       "    }\n",
       "\n",
       "    .dataframe thead th {\n",
       "        text-align: right;\n",
       "    }\n",
       "</style>\n",
       "<table border=\"1\" class=\"dataframe\">\n",
       "  <thead>\n",
       "    <tr style=\"text-align: right;\">\n",
       "      <th></th>\n",
       "      <th>target</th>\n",
       "    </tr>\n",
       "    <tr>\n",
       "      <th>id</th>\n",
       "      <th></th>\n",
       "    </tr>\n",
       "  </thead>\n",
       "  <tbody>\n",
       "    <tr>\n",
       "      <th>0</th>\n",
       "      <td>8.093230</td>\n",
       "    </tr>\n",
       "    <tr>\n",
       "      <th>2</th>\n",
       "      <td>7.822159</td>\n",
       "    </tr>\n",
       "    <tr>\n",
       "      <th>6</th>\n",
       "      <td>7.867669</td>\n",
       "    </tr>\n",
       "    <tr>\n",
       "      <th>7</th>\n",
       "      <td>8.074233</td>\n",
       "    </tr>\n",
       "    <tr>\n",
       "      <th>10</th>\n",
       "      <td>8.158477</td>\n",
       "    </tr>\n",
       "    <tr>\n",
       "      <th>...</th>\n",
       "      <td>...</td>\n",
       "    </tr>\n",
       "    <tr>\n",
       "      <th>499984</th>\n",
       "      <td>8.153587</td>\n",
       "    </tr>\n",
       "    <tr>\n",
       "      <th>499985</th>\n",
       "      <td>8.001601</td>\n",
       "    </tr>\n",
       "    <tr>\n",
       "      <th>499987</th>\n",
       "      <td>8.048147</td>\n",
       "    </tr>\n",
       "    <tr>\n",
       "      <th>499988</th>\n",
       "      <td>7.988638</td>\n",
       "    </tr>\n",
       "    <tr>\n",
       "      <th>499990</th>\n",
       "      <td>7.833595</td>\n",
       "    </tr>\n",
       "  </tbody>\n",
       "</table>\n",
       "<p>200000 rows × 1 columns</p>\n",
       "</div>"
      ],
      "text/plain": [
       "          target\n",
       "id              \n",
       "0       8.093230\n",
       "2       7.822159\n",
       "6       7.867669\n",
       "7       8.074233\n",
       "10      8.158477\n",
       "...          ...\n",
       "499984  8.153587\n",
       "499985  8.001601\n",
       "499987  8.048147\n",
       "499988  7.988638\n",
       "499990  7.833595\n",
       "\n",
       "[200000 rows x 1 columns]"
      ]
     },
     "execution_count": 4,
     "metadata": {},
     "output_type": "execute_result"
    }
   ],
   "source": [
    "# making prediction with random forest using above parameters\n",
    "rf = RandomForestRegressor(n_estimators=10,random_state=42,\n",
    "                           max_depth=10,max_features=8,min_samples_split=4)\n",
    "rf.fit(train,y)\n",
    "rf_preds = pd.DataFrame(rf.predict(test),index=test.index)\n",
    "rf_preds.columns=['target']\n",
    "rf_preds.to_csv('predictions/randomforest.csv')\n",
    "rf_preds"
   ]
  },
  {
   "cell_type": "markdown",
   "id": "finnish-process",
   "metadata": {},
   "source": [
    "Submitting this gives a score of 0.71243, which is an improvement upon the decision tree score. In fact, one can get better score with higher `n_estimators`. For example, at `n_estimators`=50, we get a score of 0.71151. So, there is some room for future improvement via tuning. But, for now, let us try to use another approach. \n",
    "\n",
    "### Gradient boosting model\n",
    "For this, we use the [xgboost](https://xgboost.readthedocs.io/en/latest/) implementation. We will also make use of early stopping. For that, we need to split training data into training part and validation part. "
   ]
  },
  {
   "cell_type": "code",
   "execution_count": 28,
   "id": "cooperative-insert",
   "metadata": {},
   "outputs": [],
   "source": [
    "# splitting data using train_test_split\n",
    "X_train, X_val, y_train, y_val = train_test_split(train,y,train_size=0.9)"
   ]
  },
  {
   "cell_type": "code",
   "execution_count": 29,
   "id": "photographic-chuck",
   "metadata": {},
   "outputs": [
    {
     "data": {
      "text/plain": [
       "XGBRegressor(base_score=0.5, booster='gbtree', colsample_bylevel=1,\n",
       "             colsample_bynode=1, colsample_bytree=1, gamma=0, gpu_id=-1,\n",
       "             importance_type='gain', interaction_constraints='',\n",
       "             learning_rate=0.01, max_delta_step=0, max_depth=6,\n",
       "             min_child_weight=1, missing=nan, monotone_constraints='()',\n",
       "             n_estimators=1000, n_jobs=6, num_parallel_tree=1, random_state=0,\n",
       "             reg_alpha=0, reg_lambda=1, scale_pos_weight=1, subsample=1,\n",
       "             tree_method='exact', validate_parameters=1, verbosity=None)"
      ]
     },
     "execution_count": 29,
     "metadata": {},
     "output_type": "execute_result"
    }
   ],
   "source": [
    "# fitting model\n",
    "from xgboost import XGBRegressor\n",
    "gbm = XGBRegressor(n_estimators=1000,learning_rate=0.01)\n",
    "gbm.fit(X_train,y_train,early_stopping_rounds=5,\n",
    "        eval_set=[(X_val,y_val)],verbose=False)"
   ]
  },
  {
   "cell_type": "code",
   "execution_count": 30,
   "id": "danish-shift",
   "metadata": {},
   "outputs": [
    {
     "data": {
      "text/html": [
       "<div>\n",
       "<style scoped>\n",
       "    .dataframe tbody tr th:only-of-type {\n",
       "        vertical-align: middle;\n",
       "    }\n",
       "\n",
       "    .dataframe tbody tr th {\n",
       "        vertical-align: top;\n",
       "    }\n",
       "\n",
       "    .dataframe thead th {\n",
       "        text-align: right;\n",
       "    }\n",
       "</style>\n",
       "<table border=\"1\" class=\"dataframe\">\n",
       "  <thead>\n",
       "    <tr style=\"text-align: right;\">\n",
       "      <th></th>\n",
       "      <th>target</th>\n",
       "    </tr>\n",
       "    <tr>\n",
       "      <th>id</th>\n",
       "      <th></th>\n",
       "    </tr>\n",
       "  </thead>\n",
       "  <tbody>\n",
       "    <tr>\n",
       "      <th>0</th>\n",
       "      <td>7.967897</td>\n",
       "    </tr>\n",
       "    <tr>\n",
       "      <th>2</th>\n",
       "      <td>7.842190</td>\n",
       "    </tr>\n",
       "    <tr>\n",
       "      <th>6</th>\n",
       "      <td>7.916304</td>\n",
       "    </tr>\n",
       "    <tr>\n",
       "      <th>7</th>\n",
       "      <td>8.160949</td>\n",
       "    </tr>\n",
       "    <tr>\n",
       "      <th>10</th>\n",
       "      <td>8.249640</td>\n",
       "    </tr>\n",
       "    <tr>\n",
       "      <th>...</th>\n",
       "      <td>...</td>\n",
       "    </tr>\n",
       "    <tr>\n",
       "      <th>499984</th>\n",
       "      <td>8.205752</td>\n",
       "    </tr>\n",
       "    <tr>\n",
       "      <th>499985</th>\n",
       "      <td>8.216376</td>\n",
       "    </tr>\n",
       "    <tr>\n",
       "      <th>499987</th>\n",
       "      <td>8.080898</td>\n",
       "    </tr>\n",
       "    <tr>\n",
       "      <th>499988</th>\n",
       "      <td>8.046902</td>\n",
       "    </tr>\n",
       "    <tr>\n",
       "      <th>499990</th>\n",
       "      <td>7.921037</td>\n",
       "    </tr>\n",
       "  </tbody>\n",
       "</table>\n",
       "<p>200000 rows × 1 columns</p>\n",
       "</div>"
      ],
      "text/plain": [
       "          target\n",
       "id              \n",
       "0       7.967897\n",
       "2       7.842190\n",
       "6       7.916304\n",
       "7       8.160949\n",
       "10      8.249640\n",
       "...          ...\n",
       "499984  8.205752\n",
       "499985  8.216376\n",
       "499987  8.080898\n",
       "499988  8.046902\n",
       "499990  7.921037\n",
       "\n",
       "[200000 rows x 1 columns]"
      ]
     },
     "execution_count": 30,
     "metadata": {},
     "output_type": "execute_result"
    }
   ],
   "source": [
    "# making and saving prediction\n",
    "gbm_preds = pd.DataFrame(gbm.predict(test),index=test.index,\n",
    "                        columns=['target'])\n",
    "gbm_preds.to_csv('predictions/gbm.csv')\n",
    "gbm_preds"
   ]
  },
  {
   "cell_type": "markdown",
   "id": "noble-quest",
   "metadata": {},
   "source": [
    "Submitting this gives a score of 0.70397, which is a nice improvement upon our previous score. It is also not a big surprise since it is one of the most powerful algorthim for tabular data. Much of the extra power of XGBoost comes from hyperparameters tuning. So, we can focus more on it later on. For now, let us try to use a feedforward neural network.\n",
    "\n",
    "### Trying out a neural net"
   ]
  },
  {
   "cell_type": "code",
   "execution_count": 59,
   "id": "residential-dialogue",
   "metadata": {},
   "outputs": [
    {
     "name": "stdout",
     "output_type": "stream",
     "text": [
      "Model: \"sequential_12\"\n",
      "_________________________________________________________________\n",
      "Layer (type)                 Output Shape              Param #   \n",
      "=================================================================\n",
      "dense_29 (Dense)             (None, 16)                240       \n",
      "_________________________________________________________________\n",
      "dense_30 (Dense)             (None, 16)                272       \n",
      "_________________________________________________________________\n",
      "dense_31 (Dense)             (None, 1)                 17        \n",
      "=================================================================\n",
      "Total params: 529\n",
      "Trainable params: 529\n",
      "Non-trainable params: 0\n",
      "_________________________________________________________________\n"
     ]
    }
   ],
   "source": [
    "from tensorflow.keras.models import Sequential\n",
    "from tensorflow.keras.layers import Dense, Dropout\n",
    "from tensorflow.keras import Input\n",
    "import tensorflow as tf\n",
    "\n",
    "nnet = Sequential([\n",
    "    Input(shape=(14,)),\n",
    "    Dense(16, activation='relu'),\n",
    "    # Dropout(0.3),\n",
    "    # Dense(16, activation='relu'),\n",
    "    Dense(1, activation = 'relu')\n",
    "])\n",
    "\n",
    "nnet.summary()"
   ]
  },
  {
   "cell_type": "code",
   "execution_count": 60,
   "id": "italic-browser",
   "metadata": {},
   "outputs": [],
   "source": [
    "# compiling model\n",
    "opt = tf.keras.optimizers.Adam(learning_rate=0.001)\n",
    "\n",
    "\n",
    "nnet.compile(optimizer=opt,loss = \"mse\", \n",
    "              metrics=[tf.metrics.MeanSquaredError()])"
   ]
  },
  {
   "cell_type": "code",
   "execution_count": 61,
   "id": "quarterly-translator",
   "metadata": {
    "scrolled": true
   },
   "outputs": [
    {
     "name": "stdout",
     "output_type": "stream",
     "text": [
      "Epoch 1/5\n",
      "18750/18750 [==============================] - 9s 450us/step - loss: 2.5656 - mean_squared_error: 2.5656\n",
      "Epoch 2/5\n",
      "18750/18750 [==============================] - 8s 446us/step - loss: 0.5327 - mean_squared_error: 0.5327\n",
      "Epoch 3/5\n",
      "18750/18750 [==============================] - 8s 427us/step - loss: 0.5282 - mean_squared_error: 0.5282\n",
      "Epoch 4/5\n",
      "18750/18750 [==============================] - 8s 426us/step - loss: 0.5258 - mean_squared_error: 0.5258\n",
      "Epoch 5/5\n",
      "18750/18750 [==============================] - 8s 417us/step - loss: 0.5262 - mean_squared_error: 0.5262\n"
     ]
    }
   ],
   "source": [
    "# fitting the model\n",
    "history = nnet.fit(train,y,epochs=5,batch_size=16)"
   ]
  },
  {
   "cell_type": "code",
   "execution_count": 62,
   "id": "korean-operations",
   "metadata": {},
   "outputs": [
    {
     "data": {
      "text/html": [
       "<div>\n",
       "<style scoped>\n",
       "    .dataframe tbody tr th:only-of-type {\n",
       "        vertical-align: middle;\n",
       "    }\n",
       "\n",
       "    .dataframe tbody tr th {\n",
       "        vertical-align: top;\n",
       "    }\n",
       "\n",
       "    .dataframe thead th {\n",
       "        text-align: right;\n",
       "    }\n",
       "</style>\n",
       "<table border=\"1\" class=\"dataframe\">\n",
       "  <thead>\n",
       "    <tr style=\"text-align: right;\">\n",
       "      <th></th>\n",
       "      <th>target</th>\n",
       "    </tr>\n",
       "    <tr>\n",
       "      <th>id</th>\n",
       "      <th></th>\n",
       "    </tr>\n",
       "  </thead>\n",
       "  <tbody>\n",
       "    <tr>\n",
       "      <th>0</th>\n",
       "      <td>8.026910</td>\n",
       "    </tr>\n",
       "    <tr>\n",
       "      <th>2</th>\n",
       "      <td>7.615761</td>\n",
       "    </tr>\n",
       "    <tr>\n",
       "      <th>6</th>\n",
       "      <td>8.012880</td>\n",
       "    </tr>\n",
       "    <tr>\n",
       "      <th>7</th>\n",
       "      <td>7.956695</td>\n",
       "    </tr>\n",
       "    <tr>\n",
       "      <th>10</th>\n",
       "      <td>8.045378</td>\n",
       "    </tr>\n",
       "    <tr>\n",
       "      <th>...</th>\n",
       "      <td>...</td>\n",
       "    </tr>\n",
       "    <tr>\n",
       "      <th>499984</th>\n",
       "      <td>8.004407</td>\n",
       "    </tr>\n",
       "    <tr>\n",
       "      <th>499985</th>\n",
       "      <td>7.949613</td>\n",
       "    </tr>\n",
       "    <tr>\n",
       "      <th>499987</th>\n",
       "      <td>7.706973</td>\n",
       "    </tr>\n",
       "    <tr>\n",
       "      <th>499988</th>\n",
       "      <td>7.931010</td>\n",
       "    </tr>\n",
       "    <tr>\n",
       "      <th>499990</th>\n",
       "      <td>7.671423</td>\n",
       "    </tr>\n",
       "  </tbody>\n",
       "</table>\n",
       "<p>200000 rows × 1 columns</p>\n",
       "</div>"
      ],
      "text/plain": [
       "          target\n",
       "id              \n",
       "0       8.026910\n",
       "2       7.615761\n",
       "6       8.012880\n",
       "7       7.956695\n",
       "10      8.045378\n",
       "...          ...\n",
       "499984  8.004407\n",
       "499985  7.949613\n",
       "499987  7.706973\n",
       "499988  7.931010\n",
       "499990  7.671423\n",
       "\n",
       "[200000 rows x 1 columns]"
      ]
     },
     "execution_count": 62,
     "metadata": {},
     "output_type": "execute_result"
    }
   ],
   "source": [
    "# making and saving prediction\n",
    "nnet_preds = pd.DataFrame(nnet.predict(test), index=test.index,\n",
    "                       columns = ['target'])\n",
    "nnet_preds.to_csv('predictions/simplenet.csv')\n",
    "nnet_preds"
   ]
  },
  {
   "cell_type": "markdown",
   "id": "designed-thickness",
   "metadata": {},
   "source": [
    "Submitting this gives a score of about 0.725, which is not better than a simple linear regression. \n",
    "\n",
    "### What's next?\n",
    "One thing to try is to play around withXGBoost hyperparameters tuning. We can also try feature transformation and feature engineering, before applying models. Some good general advice are given [here](https://www.kaggle.com/c/tabular-playground-series-jan-2021/discussion/213090)."
   ]
  }
 ],
 "metadata": {
  "kernelspec": {
   "display_name": "Python 3",
   "language": "python",
   "name": "python3"
  },
  "language_info": {
   "codemirror_mode": {
    "name": "ipython",
    "version": 3
   },
   "file_extension": ".py",
   "mimetype": "text/x-python",
   "name": "python",
   "nbconvert_exporter": "python",
   "pygments_lexer": "ipython3",
   "version": "3.8.1"
  }
 },
 "nbformat": 4,
 "nbformat_minor": 5
}
