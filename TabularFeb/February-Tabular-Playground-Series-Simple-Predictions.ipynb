{
 "cells": [
  {
   "cell_type": "markdown",
   "id": "consolidated-interpretation",
   "metadata": {},
   "source": [
    "## Table of contents\n",
    "1. [Introduction](#intro)\n",
    "2. [Linear regression using numerical features](#linregnum)\n",
    "3. [Regularized regressions using numerical features](#reglinregnum)\n",
    "4. [Linear regression + categorical encoding](#linregcat)\n",
    "5. [Random Forest](#randomforest)\n",
    "6. [XGBoost](#xgb)\n",
    "7. [What's next](#next)\n",
    "\n",
    "\n",
    "### Introduction <a name='intro'>\n",
    "In this post, I want produce some simple predictions on the [February Tabular PLayground Series](https://www.kaggle.com/c/tabular-playground-series-feb-2021) without feature selection, and see how far we can go by applying different models. "
   ]
  },
  {
   "cell_type": "code",
   "execution_count": 1,
   "id": "julian-emission",
   "metadata": {},
   "outputs": [],
   "source": [
    "import pandas as pd\n",
    "import numpy as np\n",
    "import matplotlib.pyplot as plt"
   ]
  },
  {
   "cell_type": "code",
   "execution_count": 2,
   "id": "inclusive-agent",
   "metadata": {},
   "outputs": [],
   "source": [
    "df = pd.read_csv(\"data/train.csv\",index_col=0)\n",
    "test = pd.read_csv(\"data/test.csv\",index_col=0)"
   ]
  },
  {
   "cell_type": "code",
   "execution_count": 3,
   "id": "intense-problem",
   "metadata": {},
   "outputs": [],
   "source": [
    "y = pd.DataFrame(df.target)\n",
    "train = df.drop(['target'],axis=1)\n",
    "categorical = train.columns[0:10]\n",
    "numerical = train.columns[10:]"
   ]
  },
  {
   "cell_type": "markdown",
   "id": "israeli-eligibility",
   "metadata": {},
   "source": [
    "We have the following helper function. "
   ]
  },
  {
   "cell_type": "code",
   "execution_count": 7,
   "id": "coastal-criterion",
   "metadata": {},
   "outputs": [],
   "source": [
    "def plot_learning_curve(estimator, title, X, y, axes=None, ylim=None, cv=None,\n",
    "                        n_jobs=None, train_sizes=np.linspace(.1, 1.0, 5)):\n",
    "    plt.figure(figsize=(10, 6))\n",
    "    if axes is None:\n",
    "        axes = plt.axes()\n",
    "\n",
    "    plt.title(title)\n",
    "    \n",
    "    if ylim is not None:\n",
    "        axes.set_ylim(*ylim)\n",
    "    axes.set_xlabel(\"Training examples\")\n",
    "    axes.set_ylabel(\"Error\")\n",
    "\n",
    "    train_sizes, train_scores, test_scores, fit_times, _ = \\\n",
    "        learning_curve(estimator, X, y, cv=cv, n_jobs=n_jobs,\n",
    "                        scoring = \"neg_root_mean_squared_error\",\n",
    "                       train_sizes=train_sizes,\n",
    "                       return_times=True)\n",
    "    train_scores_mean = -np.mean(train_scores, axis=1)\n",
    "    train_scores_std = -np.std(train_scores, axis=1)\n",
    "    test_scores_mean = -np.mean(test_scores, axis=1)\n",
    "    test_scores_std = -np.std(test_scores, axis=1)\n",
    "    fit_times_mean = np.mean(fit_times, axis=1)\n",
    "    fit_times_std = np.std(fit_times, axis=1)\n",
    "\n",
    "    # Plot learning curve\n",
    "    axes.grid()\n",
    "    axes.fill_between(train_sizes, train_scores_mean - train_scores_std,\n",
    "                         train_scores_mean + train_scores_std, alpha=0.1,\n",
    "                         color=\"r\")\n",
    "    axes.fill_between(train_sizes, test_scores_mean - test_scores_std,\n",
    "                         test_scores_mean + test_scores_std, alpha=0.1,\n",
    "                         color=\"g\")\n",
    "    axes.plot(train_sizes, train_scores_mean, 'o-', color=\"r\",\n",
    "                 label=\"Training score\")\n",
    "    axes.plot(train_sizes, test_scores_mean, 'o-', color=\"g\",\n",
    "                 label=\"Cross-validation score\")\n",
    "    axes.legend(loc=\"best\")\n",
    "\n",
    "    return plt"
   ]
  },
  {
   "cell_type": "markdown",
   "id": "architectural-gardening",
   "metadata": {},
   "source": [
    "### Linear regression using numerical columns <a name='linregnum'>"
   ]
  },
  {
   "cell_type": "code",
   "execution_count": 8,
   "id": "objective-audit",
   "metadata": {},
   "outputs": [],
   "source": [
    "from sklearn.linear_model import LinearRegression\n",
    "from sklearn.model_selection import cross_val_score, learning_curve, \\\n",
    "                                    validation_curve"
   ]
  },
  {
   "cell_type": "code",
   "execution_count": 9,
   "id": "verified-source",
   "metadata": {},
   "outputs": [
    {
     "data": {
      "image/png": "[encoded data removed]",
      "text/plain": [
       "<Figure size 720x432 with 1 Axes>"
      ]
     },
     "metadata": {
      "needs_background": "light"
     },
     "output_type": "display_data"
    }
   ],
   "source": [
    "# Learning curve for linear regression\n",
    "title = \"Learning curve (Linear Regression)\"\n",
    "plot_learning_curve(LinearRegression(),title,train[numerical],\n",
    "                    y,cv=10)\n",
    "plt.show()"
   ]
  },
  {
   "cell_type": "markdown",
   "id": "designed-gospel",
   "metadata": {},
   "source": [
    "The learning curve plot does not suggest any overfitting since the training and cross-validation scores are quite close. But, there seems to be some underfitting. "
   ]
  },
  {
   "cell_type": "code",
   "execution_count": 26,
   "id": "traditional-rates",
   "metadata": {},
   "outputs": [],
   "source": [
    "linreg_preds=LinearRegression().fit(train[numerical],y).predict(test[numerical])\n",
    "linreg_preds = pd.DataFrame(linreg_preds,index=test.index)\n",
    "linreg_preds.columns = ['target']\n",
    "linreg_preds.to_csv('predictions/linreg.csv')"
   ]
  },
  {
   "cell_type": "code",
   "execution_count": 27,
   "id": "fallen-dealing",
   "metadata": {},
   "outputs": [
    {
     "data": {
      "text/html": [
       "<div>\n",
       "<style scoped>\n",
       "    .dataframe tbody tr th:only-of-type {\n",
       "        vertical-align: middle;\n",
       "    }\n",
       "\n",
       "    .dataframe tbody tr th {\n",
       "        vertical-align: top;\n",
       "    }\n",
       "\n",
       "    .dataframe thead th {\n",
       "        text-align: right;\n",
       "    }\n",
       "</style>\n",
       "<table border=\"1\" class=\"dataframe\">\n",
       "  <thead>\n",
       "    <tr style=\"text-align: right;\">\n",
       "      <th></th>\n",
       "      <th>target</th>\n",
       "    </tr>\n",
       "    <tr>\n",
       "      <th>id</th>\n",
       "      <th></th>\n",
       "    </tr>\n",
       "  </thead>\n",
       "  <tbody>\n",
       "    <tr>\n",
       "      <th>0</th>\n",
       "      <td>7.377975</td>\n",
       "    </tr>\n",
       "    <tr>\n",
       "      <th>5</th>\n",
       "      <td>7.637387</td>\n",
       "    </tr>\n",
       "    <tr>\n",
       "      <th>15</th>\n",
       "      <td>7.409301</td>\n",
       "    </tr>\n",
       "    <tr>\n",
       "      <th>16</th>\n",
       "      <td>7.347044</td>\n",
       "    </tr>\n",
       "    <tr>\n",
       "      <th>17</th>\n",
       "      <td>7.402252</td>\n",
       "    </tr>\n",
       "    <tr>\n",
       "      <th>...</th>\n",
       "      <td>...</td>\n",
       "    </tr>\n",
       "    <tr>\n",
       "      <th>499987</th>\n",
       "      <td>7.385944</td>\n",
       "    </tr>\n",
       "    <tr>\n",
       "      <th>499990</th>\n",
       "      <td>7.438991</td>\n",
       "    </tr>\n",
       "    <tr>\n",
       "      <th>499991</th>\n",
       "      <td>7.584926</td>\n",
       "    </tr>\n",
       "    <tr>\n",
       "      <th>499994</th>\n",
       "      <td>7.427848</td>\n",
       "    </tr>\n",
       "    <tr>\n",
       "      <th>499995</th>\n",
       "      <td>7.406595</td>\n",
       "    </tr>\n",
       "  </tbody>\n",
       "</table>\n",
       "<p>200000 rows × 1 columns</p>\n",
       "</div>"
      ],
      "text/plain": [
       "          target\n",
       "id              \n",
       "0       7.377975\n",
       "5       7.637387\n",
       "15      7.409301\n",
       "16      7.347044\n",
       "17      7.402252\n",
       "...          ...\n",
       "499987  7.385944\n",
       "499990  7.438991\n",
       "499991  7.584926\n",
       "499994  7.427848\n",
       "499995  7.406595\n",
       "\n",
       "[200000 rows x 1 columns]"
      ]
     },
     "execution_count": 27,
     "metadata": {},
     "output_type": "execute_result"
    }
   ],
   "source": [
    "linreg_preds"
   ]
  },
  {
   "cell_type": "markdown",
   "id": "functional-sense",
   "metadata": {},
   "source": [
    "### Regularized regressions <a name='reglinregnum'>\n",
    "\n",
    "In the learning curve plot, the errors from training and cross-validation are quite, and so do not suggest an overfitting problem. Thus, it is not likely that regularization would help. However, we will still try it here. \n",
    "\n",
    "#### Ridge regression"
   ]
  },
  {
   "cell_type": "code",
   "execution_count": 25,
   "id": "democratic-quarterly",
   "metadata": {},
   "outputs": [],
   "source": [
    "from sklearn.linear_model import RidgeCV, Ridge"
   ]
  },
  {
   "cell_type": "code",
   "execution_count": 26,
   "id": "hundred-membership",
   "metadata": {},
   "outputs": [
    {
     "data": {
      "text/plain": [
       "(0.00999972778473579, 10.0)"
      ]
     },
     "execution_count": 26,
     "metadata": {},
     "output_type": "execute_result"
    }
   ],
   "source": [
    "alphas = [0.0001,0.0003,0.001,0.003,0.01, 0.03, 0.1, 0.3, 1, 3, 10, 30, 100]\n",
    "\n",
    "ridgecv = RidgeCV(alphas=alphas,cv=10).fit(train[numerical],y)\n",
    "ridgecv.score(train[numerical],y), ridgecv.alpha_"
   ]
  },
  {
   "cell_type": "code",
   "execution_count": 27,
   "id": "sticky-fantasy",
   "metadata": {},
   "outputs": [
    {
     "data": {
      "image/png": "[encoded data removed]",
      "text/plain": [
       "<Figure size 720x432 with 1 Axes>"
      ]
     },
     "metadata": {
      "needs_background": "light"
     },
     "output_type": "display_data"
    }
   ],
   "source": [
    "# Learning curve for Ridge regression\n",
    "title = \"Learning curve (Ridge Regression)\"\n",
    "plot_learning_curve(Ridge(alpha=10),title,train[numerical],\n",
    "                    y,cv=10)\n",
    "plt.show()"
   ]
  },
  {
   "cell_type": "markdown",
   "id": "close-viking",
   "metadata": {},
   "source": [
    "#### Lasso"
   ]
  },
  {
   "cell_type": "code",
   "execution_count": 28,
   "id": "therapeutic-wells",
   "metadata": {},
   "outputs": [],
   "source": [
    "from sklearn.linear_model import Lasso, LassoCV"
   ]
  },
  {
   "cell_type": "code",
   "execution_count": 29,
   "id": "wireless-flooring",
   "metadata": {},
   "outputs": [
    {
     "name": "stderr",
     "output_type": "stream",
     "text": [
      "d:\\projects\\funwithkaggle\\venv\\lib\\site-packages\\sklearn\\utils\\validation.py:63: DataConversionWarning: A column-vector y was passed when a 1d array was expected. Please change the shape of y to (n_samples, ), for example using ravel().\n",
      "  return f(*args, **kwargs)\n"
     ]
    },
    {
     "data": {
      "text/plain": [
       "(0.009993179955551046, 0.0001)"
      ]
     },
     "execution_count": 29,
     "metadata": {},
     "output_type": "execute_result"
    }
   ],
   "source": [
    "alphas = [0.0001,0.0003,0.001,0.003,0.01, 0.03, 0.1, 0.3, 1, 3, 10, 30, 100]\n",
    "\n",
    "lassocv = LassoCV(alphas=alphas,cv=10).fit(train[numerical],y)\n",
    "lassocv.score(train[numerical],y), lassocv.alpha_"
   ]
  },
  {
   "cell_type": "code",
   "execution_count": 33,
   "id": "sustained-bernard",
   "metadata": {},
   "outputs": [
    {
     "data": {
      "image/png": "[encoded data removed]",
      "text/plain": [
       "<Figure size 720x432 with 1 Axes>"
      ]
     },
     "metadata": {
      "needs_background": "light"
     },
     "output_type": "display_data"
    }
   ],
   "source": [
    "# Learning curve for Lasso regression\n",
    "title = \"Learning curve (Lasso Regression)\"\n",
    "plot_learning_curve(Lasso(alpha=0.0001),title,train[numerical],\n",
    "                    y,cv=10)\n",
    "plt.show()"
   ]
  },
  {
   "cell_type": "markdown",
   "id": "eligible-bernard",
   "metadata": {},
   "source": [
    "In either case, it seems that regularization was not quite helpful. "
   ]
  },
  {
   "cell_type": "markdown",
   "id": "after-church",
   "metadata": {},
   "source": [
    "### Linear regression + categorical encodings <a name='linregcat'>\n",
    "#### Label encoding"
   ]
  },
  {
   "cell_type": "code",
   "execution_count": 17,
   "id": "objective-string",
   "metadata": {},
   "outputs": [],
   "source": [
    "from sklearn.preprocessing import LabelEncoder"
   ]
  },
  {
   "cell_type": "code",
   "execution_count": 40,
   "id": "individual-georgia",
   "metadata": {},
   "outputs": [],
   "source": [
    "le = LabelEncoder()\n",
    "\n",
    "le_train = train.copy()\n",
    "le_test = test.copy()\n",
    "\n",
    "for col in categorical:\n",
    "    le_train[col] = le.fit_transform(train[col])\n",
    "    le_test[col] = le.transform(test[col])"
   ]
  },
  {
   "cell_type": "code",
   "execution_count": 41,
   "id": "extensive-theater",
   "metadata": {},
   "outputs": [
    {
     "data": {
      "image/png": "[encoded data removed]",
      "text/plain": [
       "<Figure size 720x432 with 1 Axes>"
      ]
     },
     "metadata": {
      "needs_background": "light"
     },
     "output_type": "display_data"
    }
   ],
   "source": [
    "# Learning curve for linear regression\n",
    "title = \"Learning curve\"\n",
    "plot_learning_curve(LinearRegression(),title,le_train,\n",
    "                    y,cv=10)\n",
    "plt.show()"
   ]
  },
  {
   "cell_type": "code",
   "execution_count": 42,
   "id": "operational-standard",
   "metadata": {},
   "outputs": [],
   "source": [
    "linregle_preds=LinearRegression().fit(le_train,y).predict(le_test)\n",
    "linregle_preds = pd.DataFrame(linregle_preds,index=test.index)\n",
    "linregle_preds.columns = ['target']\n",
    "linregle_preds.to_csv('predictions/linregle.csv')"
   ]
  },
  {
   "cell_type": "code",
   "execution_count": 43,
   "id": "sunset-violence",
   "metadata": {},
   "outputs": [
    {
     "data": {
      "text/html": [
       "<div>\n",
       "<style scoped>\n",
       "    .dataframe tbody tr th:only-of-type {\n",
       "        vertical-align: middle;\n",
       "    }\n",
       "\n",
       "    .dataframe tbody tr th {\n",
       "        vertical-align: top;\n",
       "    }\n",
       "\n",
       "    .dataframe thead th {\n",
       "        text-align: right;\n",
       "    }\n",
       "</style>\n",
       "<table border=\"1\" class=\"dataframe\">\n",
       "  <thead>\n",
       "    <tr style=\"text-align: right;\">\n",
       "      <th></th>\n",
       "      <th>target</th>\n",
       "    </tr>\n",
       "    <tr>\n",
       "      <th>id</th>\n",
       "      <th></th>\n",
       "    </tr>\n",
       "  </thead>\n",
       "  <tbody>\n",
       "    <tr>\n",
       "      <th>0</th>\n",
       "      <td>7.479715</td>\n",
       "    </tr>\n",
       "    <tr>\n",
       "      <th>5</th>\n",
       "      <td>7.820140</td>\n",
       "    </tr>\n",
       "    <tr>\n",
       "      <th>15</th>\n",
       "      <td>7.597872</td>\n",
       "    </tr>\n",
       "    <tr>\n",
       "      <th>16</th>\n",
       "      <td>7.431729</td>\n",
       "    </tr>\n",
       "    <tr>\n",
       "      <th>17</th>\n",
       "      <td>7.423537</td>\n",
       "    </tr>\n",
       "    <tr>\n",
       "      <th>...</th>\n",
       "      <td>...</td>\n",
       "    </tr>\n",
       "    <tr>\n",
       "      <th>499987</th>\n",
       "      <td>7.243416</td>\n",
       "    </tr>\n",
       "    <tr>\n",
       "      <th>499990</th>\n",
       "      <td>7.317814</td>\n",
       "    </tr>\n",
       "    <tr>\n",
       "      <th>499991</th>\n",
       "      <td>7.560099</td>\n",
       "    </tr>\n",
       "    <tr>\n",
       "      <th>499994</th>\n",
       "      <td>7.446341</td>\n",
       "    </tr>\n",
       "    <tr>\n",
       "      <th>499995</th>\n",
       "      <td>7.458989</td>\n",
       "    </tr>\n",
       "  </tbody>\n",
       "</table>\n",
       "<p>200000 rows × 1 columns</p>\n",
       "</div>"
      ],
      "text/plain": [
       "          target\n",
       "id              \n",
       "0       7.479715\n",
       "5       7.820140\n",
       "15      7.597872\n",
       "16      7.431729\n",
       "17      7.423537\n",
       "...          ...\n",
       "499987  7.243416\n",
       "499990  7.317814\n",
       "499991  7.560099\n",
       "499994  7.446341\n",
       "499995  7.458989\n",
       "\n",
       "[200000 rows x 1 columns]"
      ]
     },
     "execution_count": 43,
     "metadata": {},
     "output_type": "execute_result"
    }
   ],
   "source": [
    "linregle_preds"
   ]
  },
  {
   "cell_type": "markdown",
   "id": "permanent-photograph",
   "metadata": {},
   "source": [
    "#### One-hot encoding"
   ]
  },
  {
   "cell_type": "code",
   "execution_count": 10,
   "id": "nearby-independence",
   "metadata": {},
   "outputs": [],
   "source": [
    "from sklearn.preprocessing import OneHotEncoder"
   ]
  },
  {
   "cell_type": "code",
   "execution_count": 11,
   "id": "defensive-crash",
   "metadata": {},
   "outputs": [],
   "source": [
    "oh = OneHotEncoder(handle_unknown='ignore',sparse=False)\n",
    "oh_train = pd.DataFrame(oh.fit_transform(train[categorical]))\n",
    "oh_test = pd.DataFrame(oh.transform(test[categorical]))\n",
    "oh_train.index = train.index\n",
    "oh_test.index = test.index"
   ]
  },
  {
   "cell_type": "code",
   "execution_count": 12,
   "id": "listed-baseball",
   "metadata": {},
   "outputs": [],
   "source": [
    "train_encoded = pd.concat([oh_train,train[numerical]],axis=1)\n",
    "test_encoded = pd.concat([oh_test,test[numerical]],axis=1)"
   ]
  },
  {
   "cell_type": "code",
   "execution_count": 16,
   "id": "confidential-producer",
   "metadata": {},
   "outputs": [
    {
     "data": {
      "image/png": "[encoded data removed]",
      "text/plain": [
       "<Figure size 720x432 with 1 Axes>"
      ]
     },
     "metadata": {
      "needs_background": "light"
     },
     "output_type": "display_data"
    }
   ],
   "source": [
    "plot_learning_curve(LinearRegression(),title,train_encoded,\n",
    "                    y,cv=10)\n",
    "plt.show()"
   ]
  },
  {
   "cell_type": "code",
   "execution_count": 49,
   "id": "scenic-lender",
   "metadata": {},
   "outputs": [],
   "source": [
    "linregoh_preds=LinearRegression().fit(train_encoded,y).predict(test_encoded)\n",
    "linregoh_preds = pd.DataFrame(linregoh_preds,index=test.index)\n",
    "linregoh_preds.columns = ['target']\n",
    "linregoh_preds.to_csv('predictions/linregoh.csv')"
   ]
  },
  {
   "cell_type": "code",
   "execution_count": 50,
   "id": "satisfied-president",
   "metadata": {},
   "outputs": [
    {
     "data": {
      "text/html": [
       "<div>\n",
       "<style scoped>\n",
       "    .dataframe tbody tr th:only-of-type {\n",
       "        vertical-align: middle;\n",
       "    }\n",
       "\n",
       "    .dataframe tbody tr th {\n",
       "        vertical-align: top;\n",
       "    }\n",
       "\n",
       "    .dataframe thead th {\n",
       "        text-align: right;\n",
       "    }\n",
       "</style>\n",
       "<table border=\"1\" class=\"dataframe\">\n",
       "  <thead>\n",
       "    <tr style=\"text-align: right;\">\n",
       "      <th></th>\n",
       "      <th>target</th>\n",
       "    </tr>\n",
       "    <tr>\n",
       "      <th>id</th>\n",
       "      <th></th>\n",
       "    </tr>\n",
       "  </thead>\n",
       "  <tbody>\n",
       "    <tr>\n",
       "      <th>0</th>\n",
       "      <td>7.557617</td>\n",
       "    </tr>\n",
       "    <tr>\n",
       "      <th>5</th>\n",
       "      <td>7.872314</td>\n",
       "    </tr>\n",
       "    <tr>\n",
       "      <th>15</th>\n",
       "      <td>7.640625</td>\n",
       "    </tr>\n",
       "    <tr>\n",
       "      <th>16</th>\n",
       "      <td>7.511108</td>\n",
       "    </tr>\n",
       "    <tr>\n",
       "      <th>17</th>\n",
       "      <td>7.322144</td>\n",
       "    </tr>\n",
       "    <tr>\n",
       "      <th>...</th>\n",
       "      <td>...</td>\n",
       "    </tr>\n",
       "    <tr>\n",
       "      <th>499987</th>\n",
       "      <td>7.349976</td>\n",
       "    </tr>\n",
       "    <tr>\n",
       "      <th>499990</th>\n",
       "      <td>7.407959</td>\n",
       "    </tr>\n",
       "    <tr>\n",
       "      <th>499991</th>\n",
       "      <td>7.550659</td>\n",
       "    </tr>\n",
       "    <tr>\n",
       "      <th>499994</th>\n",
       "      <td>7.467407</td>\n",
       "    </tr>\n",
       "    <tr>\n",
       "      <th>499995</th>\n",
       "      <td>7.205566</td>\n",
       "    </tr>\n",
       "  </tbody>\n",
       "</table>\n",
       "<p>200000 rows × 1 columns</p>\n",
       "</div>"
      ],
      "text/plain": [
       "          target\n",
       "id              \n",
       "0       7.557617\n",
       "5       7.872314\n",
       "15      7.640625\n",
       "16      7.511108\n",
       "17      7.322144\n",
       "...          ...\n",
       "499987  7.349976\n",
       "499990  7.407959\n",
       "499991  7.550659\n",
       "499994  7.467407\n",
       "499995  7.205566\n",
       "\n",
       "[200000 rows x 1 columns]"
      ]
     },
     "execution_count": 50,
     "metadata": {},
     "output_type": "execute_result"
    }
   ],
   "source": [
    "linregoh_preds"
   ]
  },
  {
   "cell_type": "markdown",
   "id": "intended-wagner",
   "metadata": {},
   "source": [
    "Among these predictions, linear regression with one-hot categorical encoding performs the best, with a score of 0.86320. So, from this point, we will work with the one-hot encoded data. \n",
    "\n",
    "### Random Forest <a name = 'randomforest'>"
   ]
  },
  {
   "cell_type": "code",
   "execution_count": 4,
   "id": "biblical-messenger",
   "metadata": {},
   "outputs": [],
   "source": [
    "from sklearn.ensemble import RandomForestRegressor\n",
    "from sklearn.model_selection import GridSearchCV"
   ]
  },
  {
   "cell_type": "code",
   "execution_count": 14,
   "id": "phantom-syracuse",
   "metadata": {},
   "outputs": [
    {
     "name": "stderr",
     "output_type": "stream",
     "text": [
      "d:\\projects\\funwithkaggle\\venv\\lib\\site-packages\\sklearn\\model_selection\\_search.py:880: DataConversionWarning: A column-vector y was passed when a 1d array was expected. Please change the shape of y to (n_samples,), for example using ravel().\n",
      "  self.best_estimator_.fit(X, y, **fit_params)\n"
     ]
    },
    {
     "data": {
      "text/plain": [
       "GridSearchCV(cv=5, estimator=RandomForestRegressor(random_state=42), n_jobs=-1,\n",
       "             param_grid={'n_estimators': [20, 50, 100]})"
      ]
     },
     "execution_count": 14,
     "metadata": {},
     "output_type": "execute_result"
    }
   ],
   "source": [
    "rf = RandomForestRegressor(random_state=42)\n",
    "\n",
    "rf_params = {'n_estimators' : [20,50,100]}\n",
    "rf_grid = GridSearchCV(rf,rf_params, cv=5,n_jobs=-1)\n",
    "\n",
    "rf_grid.fit(train_encoded,y)"
   ]
  },
  {
   "cell_type": "code",
   "execution_count": 16,
   "id": "competitive-abraham",
   "metadata": {},
   "outputs": [
    {
     "data": {
      "text/plain": [
       "{'n_estimators': 100}"
      ]
     },
     "execution_count": 16,
     "metadata": {},
     "output_type": "execute_result"
    }
   ],
   "source": [
    "# best parameters\n",
    "rf_grid.best_params_"
   ]
  },
  {
   "cell_type": "code",
   "execution_count": 18,
   "id": "brave-soccer",
   "metadata": {},
   "outputs": [
    {
     "name": "stderr",
     "output_type": "stream",
     "text": [
      "<ipython-input-18-876ba32096b3>:2: DataConversionWarning: A column-vector y was passed when a 1d array was expected. Please change the shape of y to (n_samples,), for example using ravel().\n",
      "  rf.fit(train_encoded,y)\n"
     ]
    },
    {
     "data": {
      "text/html": [
       "<div>\n",
       "<style scoped>\n",
       "    .dataframe tbody tr th:only-of-type {\n",
       "        vertical-align: middle;\n",
       "    }\n",
       "\n",
       "    .dataframe tbody tr th {\n",
       "        vertical-align: top;\n",
       "    }\n",
       "\n",
       "    .dataframe thead th {\n",
       "        text-align: right;\n",
       "    }\n",
       "</style>\n",
       "<table border=\"1\" class=\"dataframe\">\n",
       "  <thead>\n",
       "    <tr style=\"text-align: right;\">\n",
       "      <th></th>\n",
       "      <th>target</th>\n",
       "    </tr>\n",
       "    <tr>\n",
       "      <th>id</th>\n",
       "      <th></th>\n",
       "    </tr>\n",
       "  </thead>\n",
       "  <tbody>\n",
       "    <tr>\n",
       "      <th>0</th>\n",
       "      <td>7.551556</td>\n",
       "    </tr>\n",
       "    <tr>\n",
       "      <th>5</th>\n",
       "      <td>8.097045</td>\n",
       "    </tr>\n",
       "    <tr>\n",
       "      <th>15</th>\n",
       "      <td>7.527492</td>\n",
       "    </tr>\n",
       "    <tr>\n",
       "      <th>16</th>\n",
       "      <td>7.039332</td>\n",
       "    </tr>\n",
       "    <tr>\n",
       "      <th>17</th>\n",
       "      <td>7.318058</td>\n",
       "    </tr>\n",
       "    <tr>\n",
       "      <th>...</th>\n",
       "      <td>...</td>\n",
       "    </tr>\n",
       "    <tr>\n",
       "      <th>499987</th>\n",
       "      <td>7.230251</td>\n",
       "    </tr>\n",
       "    <tr>\n",
       "      <th>499990</th>\n",
       "      <td>7.181622</td>\n",
       "    </tr>\n",
       "    <tr>\n",
       "      <th>499991</th>\n",
       "      <td>7.419960</td>\n",
       "    </tr>\n",
       "    <tr>\n",
       "      <th>499994</th>\n",
       "      <td>7.702069</td>\n",
       "    </tr>\n",
       "    <tr>\n",
       "      <th>499995</th>\n",
       "      <td>7.513352</td>\n",
       "    </tr>\n",
       "  </tbody>\n",
       "</table>\n",
       "<p>200000 rows × 1 columns</p>\n",
       "</div>"
      ],
      "text/plain": [
       "          target\n",
       "id              \n",
       "0       7.551556\n",
       "5       8.097045\n",
       "15      7.527492\n",
       "16      7.039332\n",
       "17      7.318058\n",
       "...          ...\n",
       "499987  7.230251\n",
       "499990  7.181622\n",
       "499991  7.419960\n",
       "499994  7.702069\n",
       "499995  7.513352\n",
       "\n",
       "[200000 rows x 1 columns]"
      ]
     },
     "execution_count": 18,
     "metadata": {},
     "output_type": "execute_result"
    }
   ],
   "source": [
    "rf = RandomForestRegressor(n_estimators=100,random_state=42)\n",
    "rf.fit(train_encoded,y)\n",
    "rf_preds = pd.DataFrame(rf.predict(test_encoded),index=test.index)\n",
    "rf_preds.columns=['target']\n",
    "rf_preds.to_csv('predictions/randomforest.csv')\n",
    "rf_preds"
   ]
  },
  {
   "cell_type": "markdown",
   "id": "textile-drilling",
   "metadata": {},
   "source": [
    "Submitting this gives a score of 0.85814, which is an improvement. We continue with our tree-based models using gradient boosting. \n",
    "\n",
    "### XGBoost <a name='xgb'>"
   ]
  },
  {
   "cell_type": "code",
   "execution_count": 20,
   "id": "corrected-brass",
   "metadata": {},
   "outputs": [],
   "source": [
    "from sklearn.model_selection import train_test_split\n",
    "from xgboost import XGBRegressor"
   ]
  },
  {
   "cell_type": "code",
   "execution_count": 22,
   "id": "going-violation",
   "metadata": {},
   "outputs": [],
   "source": [
    "# get validation set for early stopping\n",
    "X_train,X_val,y_train,y_val=train_test_split(train_encoded,y,train_size=0.9)"
   ]
  },
  {
   "cell_type": "code",
   "execution_count": 23,
   "id": "continental-america",
   "metadata": {},
   "outputs": [
    {
     "data": {
      "text/plain": [
       "XGBRegressor(base_score=0.5, booster='gbtree', colsample_bylevel=1,\n",
       "             colsample_bynode=1, colsample_bytree=1, gamma=0, gpu_id=-1,\n",
       "             importance_type='gain', interaction_constraints='',\n",
       "             learning_rate=0.01, max_delta_step=0, max_depth=6,\n",
       "             min_child_weight=1, missing=nan, monotone_constraints='()',\n",
       "             n_estimators=1000, n_jobs=6, num_parallel_tree=1, random_state=0,\n",
       "             reg_alpha=0, reg_lambda=1, scale_pos_weight=1, subsample=1,\n",
       "             tree_method='exact', validate_parameters=1, verbosity=None)"
      ]
     },
     "execution_count": 23,
     "metadata": {},
     "output_type": "execute_result"
    }
   ],
   "source": [
    "# fitting model\n",
    "gbm = XGBRegressor(n_estimators=1000,learning_rate=0.01)\n",
    "gbm.fit(X_train,y_train,early_stopping_rounds=5,\n",
    "        eval_set=[(X_val,y_val)],verbose=False)"
   ]
  },
  {
   "cell_type": "code",
   "execution_count": 25,
   "id": "visible-system",
   "metadata": {},
   "outputs": [
    {
     "data": {
      "text/html": [
       "<div>\n",
       "<style scoped>\n",
       "    .dataframe tbody tr th:only-of-type {\n",
       "        vertical-align: middle;\n",
       "    }\n",
       "\n",
       "    .dataframe tbody tr th {\n",
       "        vertical-align: top;\n",
       "    }\n",
       "\n",
       "    .dataframe thead th {\n",
       "        text-align: right;\n",
       "    }\n",
       "</style>\n",
       "<table border=\"1\" class=\"dataframe\">\n",
       "  <thead>\n",
       "    <tr style=\"text-align: right;\">\n",
       "      <th></th>\n",
       "      <th>target</th>\n",
       "    </tr>\n",
       "    <tr>\n",
       "      <th>id</th>\n",
       "      <th></th>\n",
       "    </tr>\n",
       "  </thead>\n",
       "  <tbody>\n",
       "    <tr>\n",
       "      <th>0</th>\n",
       "      <td>7.517580</td>\n",
       "    </tr>\n",
       "    <tr>\n",
       "      <th>5</th>\n",
       "      <td>7.820141</td>\n",
       "    </tr>\n",
       "    <tr>\n",
       "      <th>15</th>\n",
       "      <td>7.601399</td>\n",
       "    </tr>\n",
       "    <tr>\n",
       "      <th>16</th>\n",
       "      <td>7.422628</td>\n",
       "    </tr>\n",
       "    <tr>\n",
       "      <th>17</th>\n",
       "      <td>7.334715</td>\n",
       "    </tr>\n",
       "    <tr>\n",
       "      <th>...</th>\n",
       "      <td>...</td>\n",
       "    </tr>\n",
       "    <tr>\n",
       "      <th>499987</th>\n",
       "      <td>7.452847</td>\n",
       "    </tr>\n",
       "    <tr>\n",
       "      <th>499990</th>\n",
       "      <td>7.265567</td>\n",
       "    </tr>\n",
       "    <tr>\n",
       "      <th>499991</th>\n",
       "      <td>7.476901</td>\n",
       "    </tr>\n",
       "    <tr>\n",
       "      <th>499994</th>\n",
       "      <td>7.459056</td>\n",
       "    </tr>\n",
       "    <tr>\n",
       "      <th>499995</th>\n",
       "      <td>7.400458</td>\n",
       "    </tr>\n",
       "  </tbody>\n",
       "</table>\n",
       "<p>200000 rows × 1 columns</p>\n",
       "</div>"
      ],
      "text/plain": [
       "          target\n",
       "id              \n",
       "0       7.517580\n",
       "5       7.820141\n",
       "15      7.601399\n",
       "16      7.422628\n",
       "17      7.334715\n",
       "...          ...\n",
       "499987  7.452847\n",
       "499990  7.265567\n",
       "499991  7.476901\n",
       "499994  7.459056\n",
       "499995  7.400458\n",
       "\n",
       "[200000 rows x 1 columns]"
      ]
     },
     "execution_count": 25,
     "metadata": {},
     "output_type": "execute_result"
    }
   ],
   "source": [
    "# making and saving prediction\n",
    "gbm_preds = pd.DataFrame(gbm.predict(test_encoded),index=test.index,\n",
    "                        columns=['target'])\n",
    "gbm_preds.to_csv('predictions/gbm.csv')\n",
    "gbm_preds"
   ]
  },
  {
   "cell_type": "markdown",
   "id": "printable-floating",
   "metadata": {},
   "source": [
    "Submitting this gives a score of 0.84695, which is an improvement, continuing to prove that gradient boosting machines are a powerhouse for these types of datasets. \n",
    "\n",
    "### What's next <a name='next'>\n",
    "So far, we have tried a few models on the dataset, mostly one-hot encoded. We did not place much emphasis on hyperparameters tuning or feature selection. So, those are logical next steps. "
   ]
  }
 ],
 "metadata": {
  "kernelspec": {
   "display_name": "Python 3",
   "language": "python",
   "name": "python3"
  },
  "language_info": {
   "codemirror_mode": {
    "name": "ipython",
    "version": 3
   },
   "file_extension": ".py",
   "mimetype": "text/x-python",
   "name": "python",
   "nbconvert_exporter": "python",
   "pygments_lexer": "ipython3",
   "version": "3.8.1"
  }
 },
 "nbformat": 4,
 "nbformat_minor": 5
}
