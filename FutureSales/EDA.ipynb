{
 "cells": [
  {
   "cell_type": "code",
   "execution_count": 8,
   "id": "packed-acquisition",
   "metadata": {},
   "outputs": [],
   "source": [
    "import pandas as pd\n",
    "import numpy as np\n",
    "from matplotlib import pyplot as plt\n",
    "import seaborn as sns\n",
    "import sqlite3"
   ]
  },
  {
   "cell_type": "code",
   "execution_count": 9,
   "id": "vulnerable-establishment",
   "metadata": {},
   "outputs": [],
   "source": [
    "connex = sqlite3.connect('data/kaggle_future_sales.db')\n",
    "cur = connex.cursor()"
   ]
  },
  {
   "cell_type": "code",
   "execution_count": 31,
   "id": "legendary-zealand",
   "metadata": {},
   "outputs": [],
   "source": [
    "# loading data\n",
    "categories  = pd.read_csv('data/item_categories.csv',index_col=1)\n",
    "items = pd.read_csv('data/items.csv', index_col=1)\n",
    "shops = pd.read_csv('data/shops.csv',index_col=1)"
   ]
  },
  {
   "cell_type": "code",
   "execution_count": 18,
   "id": "sufficient-lightning",
   "metadata": {},
   "outputs": [],
   "source": [
    "train = pd.read_csv('data/sales_train.csv')\n",
    "test = pd.read_csv('data/test.csv',index_col=0)"
   ]
  },
  {
   "cell_type": "code",
   "execution_count": 37,
   "id": "imported-british",
   "metadata": {
    "scrolled": true
   },
   "outputs": [],
   "source": [
    "# write these tables into our database\n",
    "categories.to_sql('categories', con=connex)\n",
    "items.to_sql('items', con=connex)\n",
    "shops.to_sql('shops', con=connex)\n",
    "train.to_sql('train_data', con=connex,index=False)\n",
    "test.to_sql('test',con=connex)"
   ]
  },
  {
   "cell_type": "code",
   "execution_count": 54,
   "id": "hungarian-appearance",
   "metadata": {},
   "outputs": [],
   "source": [
    "train['date'] = pd.Series(pd.to_datetime(train.date,\n",
    "                                         infer_datetime_format=True))"
   ]
  },
  {
   "cell_type": "code",
   "execution_count": 58,
   "id": "personalized-compiler",
   "metadata": {},
   "outputs": [],
   "source": [
    "train['item_cnt_day'] = train.item_cnt_day.astype('int64')"
   ]
  },
  {
   "cell_type": "code",
   "execution_count": 59,
   "id": "demanding-andrews",
   "metadata": {},
   "outputs": [
    {
     "data": {
      "text/plain": [
       "date              datetime64[ns]\n",
       "date_block_num             int64\n",
       "shop_id                    int64\n",
       "item_id                    int64\n",
       "item_price               float64\n",
       "item_cnt_day               int64\n",
       "dtype: object"
      ]
     },
     "execution_count": 59,
     "metadata": {},
     "output_type": "execute_result"
    }
   ],
   "source": [
    "train.dtypes"
   ]
  },
  {
   "cell_type": "code",
   "execution_count": 60,
   "id": "ready-electron",
   "metadata": {},
   "outputs": [],
   "source": [
    "train.to_sql('train_data', con=connex,if_exists='replace',index=False)"
   ]
  },
  {
   "cell_type": "code",
   "execution_count": 46,
   "id": "classified-miracle",
   "metadata": {},
   "outputs": [],
   "source": [
    "monthly = train.groupby(['date_block_num','shop_id',\n",
    "                         'item_id']).item_cnt_day.sum()"
   ]
  },
  {
   "cell_type": "code",
   "execution_count": null,
   "id": "orange-springer",
   "metadata": {},
   "outputs": [],
   "source": []
  }
 ],
 "metadata": {
  "kernelspec": {
   "display_name": "Python 3",
   "language": "python",
   "name": "python3"
  },
  "language_info": {
   "codemirror_mode": {
    "name": "ipython",
    "version": 3
   },
   "file_extension": ".py",
   "mimetype": "text/x-python",
   "name": "python",
   "nbconvert_exporter": "python",
   "pygments_lexer": "ipython3",
   "version": "3.8.1"
  }
 },
 "nbformat": 4,
 "nbformat_minor": 5
}
